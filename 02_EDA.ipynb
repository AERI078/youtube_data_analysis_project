{
 "cells": [
  {
   "cell_type": "markdown",
   "metadata": {},
   "source": [
    "# Exploratory Data Analysis\n",
    "\n",
    "- Database contains top 10 videos in 5 regions (India, USA, Brazil, Indonesia and Mexico) for 19 days\n",
    "- date time in UTC "
   ]
  },
  {
   "cell_type": "code",
   "execution_count": 10,
   "metadata": {},
   "outputs": [],
   "source": [
    "# importing required libraries\n",
    "\n",
    "import numpy as np\n",
    "import pandas as pd\n",
    "import matplotlib.pyplot as plt\n",
    "import seaborn as sns"
   ]
  },
  {
   "cell_type": "code",
   "execution_count": 11,
   "metadata": {},
   "outputs": [
    {
     "data": {
      "text/html": [
       "<div>\n",
       "<style scoped>\n",
       "    .dataframe tbody tr th:only-of-type {\n",
       "        vertical-align: middle;\n",
       "    }\n",
       "\n",
       "    .dataframe tbody tr th {\n",
       "        vertical-align: top;\n",
       "    }\n",
       "\n",
       "    .dataframe thead th {\n",
       "        text-align: right;\n",
       "    }\n",
       "</style>\n",
       "<table border=\"1\" class=\"dataframe\">\n",
       "  <thead>\n",
       "    <tr style=\"text-align: right;\">\n",
       "      <th></th>\n",
       "      <th>id</th>\n",
       "      <th>region_code</th>\n",
       "      <th>publish_date</th>\n",
       "      <th>channel_id</th>\n",
       "      <th>channel_name</th>\n",
       "      <th>title</th>\n",
       "      <th>description</th>\n",
       "      <th>category_id</th>\n",
       "      <th>duration</th>\n",
       "      <th>caption</th>\n",
       "      <th>views</th>\n",
       "      <th>likes</th>\n",
       "      <th>comment_count</th>\n",
       "    </tr>\n",
       "  </thead>\n",
       "  <tbody>\n",
       "    <tr>\n",
       "      <th>0</th>\n",
       "      <td>XhW3i2f54BQ</td>\n",
       "      <td>IN</td>\n",
       "      <td>2025-02-24T05:37:32Z</td>\n",
       "      <td>UC-seBZmnGCMWm9aCHL2WcNQ</td>\n",
       "      <td>Wall Poster Cinema</td>\n",
       "      <td>HIT 3 Teaser : Sarkaar's Laathi | Nani | Saile...</td>\n",
       "      <td>Watch #HIT3Teaser : Sarkaar's Laathi on Wall P...</td>\n",
       "      <td>1</td>\n",
       "      <td>PT1M45S</td>\n",
       "      <td>True</td>\n",
       "      <td>16695651</td>\n",
       "      <td>323858</td>\n",
       "      <td>6688</td>\n",
       "    </tr>\n",
       "    <tr>\n",
       "      <th>1</th>\n",
       "      <td>W8x6Dwyj0-A</td>\n",
       "      <td>IN</td>\n",
       "      <td>2025-02-22T11:30:08Z</td>\n",
       "      <td>UCq-Fj5jknLsUf-MWSy4_brA</td>\n",
       "      <td>T-Series</td>\n",
       "      <td>MANIAC (Official Video): YO YO HONEY SINGH | E...</td>\n",
       "      <td>YOU CAN FEEL THE HEAT! PRESENTING THE OFFICIAL...</td>\n",
       "      <td>10</td>\n",
       "      <td>PT2M58S</td>\n",
       "      <td>False</td>\n",
       "      <td>25780803</td>\n",
       "      <td>1588648</td>\n",
       "      <td>115750</td>\n",
       "    </tr>\n",
       "    <tr>\n",
       "      <th>2</th>\n",
       "      <td>dbWfo4NAx8M</td>\n",
       "      <td>IN</td>\n",
       "      <td>2025-02-23T17:12:10Z</td>\n",
       "      <td>UCeWqACGRU5gT0BXeFhrixWA</td>\n",
       "      <td>Shoaib Akhtar</td>\n",
       "      <td>I am Not Disappointed at All | #PAKVIND | Shoa...</td>\n",
       "      <td>I am Not Disappointed at All | #PAKVIND\\n\\n#Sh...</td>\n",
       "      <td>17</td>\n",
       "      <td>PT3M53S</td>\n",
       "      <td>False</td>\n",
       "      <td>2064436</td>\n",
       "      <td>83781</td>\n",
       "      <td>5386</td>\n",
       "    </tr>\n",
       "    <tr>\n",
       "      <th>3</th>\n",
       "      <td>DQnZhK6Y27g</td>\n",
       "      <td>IN</td>\n",
       "      <td>2025-02-23T06:11:52Z</td>\n",
       "      <td>UCebC4x5l2-PQxg46Ucv9CsA</td>\n",
       "      <td>Crazy XYZ</td>\n",
       "      <td>Crazy Secret Room Making Challenges Part-3 | इ...</td>\n",
       "      <td>Probo Link: https://probo-in.onelink.me/1kre/C...</td>\n",
       "      <td>28</td>\n",
       "      <td>PT29M42S</td>\n",
       "      <td>False</td>\n",
       "      <td>4442627</td>\n",
       "      <td>300654</td>\n",
       "      <td>47471</td>\n",
       "    </tr>\n",
       "    <tr>\n",
       "      <th>4</th>\n",
       "      <td>UTaWdNZkGcM</td>\n",
       "      <td>IN</td>\n",
       "      <td>2025-02-23T17:21:39Z</td>\n",
       "      <td>UC9D7QzaNDP11e4jI4ygU5Xg</td>\n",
       "      <td>NewsBook</td>\n",
       "      <td>IND vs PAK: India की Pakistan पर Virat जीत ! R...</td>\n",
       "      <td>#indvspak #viratkohli #shreyasiyer #shubmangil...</td>\n",
       "      <td>17</td>\n",
       "      <td>PT11M48S</td>\n",
       "      <td>False</td>\n",
       "      <td>1374247</td>\n",
       "      <td>59617</td>\n",
       "      <td>3526</td>\n",
       "    </tr>\n",
       "  </tbody>\n",
       "</table>\n",
       "</div>"
      ],
      "text/plain": [
       "            id region_code          publish_date                channel_id  \\\n",
       "0  XhW3i2f54BQ          IN  2025-02-24T05:37:32Z  UC-seBZmnGCMWm9aCHL2WcNQ   \n",
       "1  W8x6Dwyj0-A          IN  2025-02-22T11:30:08Z  UCq-Fj5jknLsUf-MWSy4_brA   \n",
       "2  dbWfo4NAx8M          IN  2025-02-23T17:12:10Z  UCeWqACGRU5gT0BXeFhrixWA   \n",
       "3  DQnZhK6Y27g          IN  2025-02-23T06:11:52Z  UCebC4x5l2-PQxg46Ucv9CsA   \n",
       "4  UTaWdNZkGcM          IN  2025-02-23T17:21:39Z  UC9D7QzaNDP11e4jI4ygU5Xg   \n",
       "\n",
       "         channel_name                                              title  \\\n",
       "0  Wall Poster Cinema  HIT 3 Teaser : Sarkaar's Laathi | Nani | Saile...   \n",
       "1            T-Series  MANIAC (Official Video): YO YO HONEY SINGH | E...   \n",
       "2       Shoaib Akhtar  I am Not Disappointed at All | #PAKVIND | Shoa...   \n",
       "3           Crazy XYZ  Crazy Secret Room Making Challenges Part-3 | इ...   \n",
       "4            NewsBook  IND vs PAK: India की Pakistan पर Virat जीत ! R...   \n",
       "\n",
       "                                         description  category_id  duration  \\\n",
       "0  Watch #HIT3Teaser : Sarkaar's Laathi on Wall P...            1   PT1M45S   \n",
       "1  YOU CAN FEEL THE HEAT! PRESENTING THE OFFICIAL...           10   PT2M58S   \n",
       "2  I am Not Disappointed at All | #PAKVIND\\n\\n#Sh...           17   PT3M53S   \n",
       "3  Probo Link: https://probo-in.onelink.me/1kre/C...           28  PT29M42S   \n",
       "4  #indvspak #viratkohli #shreyasiyer #shubmangil...           17  PT11M48S   \n",
       "\n",
       "   caption     views    likes  comment_count  \n",
       "0     True  16695651   323858           6688  \n",
       "1    False  25780803  1588648         115750  \n",
       "2    False   2064436    83781           5386  \n",
       "3    False   4442627   300654          47471  \n",
       "4    False   1374247    59617           3526  "
      ]
     },
     "execution_count": 11,
     "metadata": {},
     "output_type": "execute_result"
    }
   ],
   "source": [
    "df = pd.read_csv('data_for_eda.csv')\n",
    "\n",
    "df.head()"
   ]
  },
  {
   "cell_type": "code",
   "execution_count": 12,
   "metadata": {},
   "outputs": [
    {
     "name": "stdout",
     "output_type": "stream",
     "text": [
      "<class 'pandas.core.frame.DataFrame'>\n",
      "RangeIndex: 950 entries, 0 to 949\n",
      "Data columns (total 13 columns):\n",
      " #   Column         Non-Null Count  Dtype \n",
      "---  ------         --------------  ----- \n",
      " 0   id             950 non-null    object\n",
      " 1   region_code    950 non-null    object\n",
      " 2   publish_date   950 non-null    object\n",
      " 3   channel_id     950 non-null    object\n",
      " 4   channel_name   950 non-null    object\n",
      " 5   title          950 non-null    object\n",
      " 6   description    913 non-null    object\n",
      " 7   category_id    950 non-null    int64 \n",
      " 8   duration       950 non-null    object\n",
      " 9   caption        950 non-null    bool  \n",
      " 10  views          950 non-null    int64 \n",
      " 11  likes          950 non-null    int64 \n",
      " 12  comment_count  950 non-null    int64 \n",
      "dtypes: bool(1), int64(4), object(8)\n",
      "memory usage: 90.1+ KB\n"
     ]
    }
   ],
   "source": [
    "df.info()"
   ]
  },
  {
   "cell_type": "code",
   "execution_count": 13,
   "metadata": {},
   "outputs": [
    {
     "data": {
      "text/html": [
       "<div>\n",
       "<style scoped>\n",
       "    .dataframe tbody tr th:only-of-type {\n",
       "        vertical-align: middle;\n",
       "    }\n",
       "\n",
       "    .dataframe tbody tr th {\n",
       "        vertical-align: top;\n",
       "    }\n",
       "\n",
       "    .dataframe thead th {\n",
       "        text-align: right;\n",
       "    }\n",
       "</style>\n",
       "<table border=\"1\" class=\"dataframe\">\n",
       "  <thead>\n",
       "    <tr style=\"text-align: right;\">\n",
       "      <th></th>\n",
       "      <th>category_id</th>\n",
       "      <th>views</th>\n",
       "      <th>likes</th>\n",
       "      <th>comment_count</th>\n",
       "    </tr>\n",
       "  </thead>\n",
       "  <tbody>\n",
       "    <tr>\n",
       "      <th>count</th>\n",
       "      <td>950.000000</td>\n",
       "      <td>9.500000e+02</td>\n",
       "      <td>9.500000e+02</td>\n",
       "      <td>950.000000</td>\n",
       "    </tr>\n",
       "    <tr>\n",
       "      <th>mean</th>\n",
       "      <td>18.202105</td>\n",
       "      <td>2.704346e+06</td>\n",
       "      <td>1.145956e+05</td>\n",
       "      <td>7517.758947</td>\n",
       "    </tr>\n",
       "    <tr>\n",
       "      <th>std</th>\n",
       "      <td>6.201668</td>\n",
       "      <td>5.162960e+06</td>\n",
       "      <td>2.340555e+05</td>\n",
       "      <td>16819.392253</td>\n",
       "    </tr>\n",
       "    <tr>\n",
       "      <th>min</th>\n",
       "      <td>1.000000</td>\n",
       "      <td>2.012500e+04</td>\n",
       "      <td>0.000000e+00</td>\n",
       "      <td>0.000000</td>\n",
       "    </tr>\n",
       "    <tr>\n",
       "      <th>25%</th>\n",
       "      <td>17.000000</td>\n",
       "      <td>3.760585e+05</td>\n",
       "      <td>1.199950e+04</td>\n",
       "      <td>740.250000</td>\n",
       "    </tr>\n",
       "    <tr>\n",
       "      <th>50%</th>\n",
       "      <td>20.000000</td>\n",
       "      <td>8.976115e+05</td>\n",
       "      <td>3.454600e+04</td>\n",
       "      <td>2126.500000</td>\n",
       "    </tr>\n",
       "    <tr>\n",
       "      <th>75%</th>\n",
       "      <td>24.000000</td>\n",
       "      <td>2.628984e+06</td>\n",
       "      <td>1.069440e+05</td>\n",
       "      <td>6154.000000</td>\n",
       "    </tr>\n",
       "    <tr>\n",
       "      <th>max</th>\n",
       "      <td>28.000000</td>\n",
       "      <td>4.278778e+07</td>\n",
       "      <td>2.328540e+06</td>\n",
       "      <td>153045.000000</td>\n",
       "    </tr>\n",
       "  </tbody>\n",
       "</table>\n",
       "</div>"
      ],
      "text/plain": [
       "       category_id         views         likes  comment_count\n",
       "count   950.000000  9.500000e+02  9.500000e+02     950.000000\n",
       "mean     18.202105  2.704346e+06  1.145956e+05    7517.758947\n",
       "std       6.201668  5.162960e+06  2.340555e+05   16819.392253\n",
       "min       1.000000  2.012500e+04  0.000000e+00       0.000000\n",
       "25%      17.000000  3.760585e+05  1.199950e+04     740.250000\n",
       "50%      20.000000  8.976115e+05  3.454600e+04    2126.500000\n",
       "75%      24.000000  2.628984e+06  1.069440e+05    6154.000000\n",
       "max      28.000000  4.278778e+07  2.328540e+06  153045.000000"
      ]
     },
     "execution_count": 13,
     "metadata": {},
     "output_type": "execute_result"
    }
   ],
   "source": [
    "df.describe()"
   ]
  },
  {
   "cell_type": "code",
   "execution_count": 14,
   "metadata": {},
   "outputs": [
    {
     "data": {
      "text/plain": [
       "id               694\n",
       "region_code        5\n",
       "publish_date     688\n",
       "channel_id       518\n",
       "channel_name     517\n",
       "title            695\n",
       "description      645\n",
       "category_id       14\n",
       "duration         561\n",
       "caption            2\n",
       "views            898\n",
       "likes            908\n",
       "comment_count    836\n",
       "dtype: int64"
      ]
     },
     "execution_count": 14,
     "metadata": {},
     "output_type": "execute_result"
    }
   ],
   "source": [
    "df.nunique()"
   ]
  },
  {
   "cell_type": "markdown",
   "metadata": {},
   "source": [
    "- out of 950 videos, 694 are unique"
   ]
  },
  {
   "cell_type": "markdown",
   "metadata": {},
   "source": [
    "## Feature Engineering"
   ]
  },
  {
   "cell_type": "code",
   "execution_count": 15,
   "metadata": {},
   "outputs": [
    {
     "data": {
      "text/html": [
       "<div>\n",
       "<style scoped>\n",
       "    .dataframe tbody tr th:only-of-type {\n",
       "        vertical-align: middle;\n",
       "    }\n",
       "\n",
       "    .dataframe tbody tr th {\n",
       "        vertical-align: top;\n",
       "    }\n",
       "\n",
       "    .dataframe thead th {\n",
       "        text-align: right;\n",
       "    }\n",
       "</style>\n",
       "<table border=\"1\" class=\"dataframe\">\n",
       "  <thead>\n",
       "    <tr style=\"text-align: right;\">\n",
       "      <th></th>\n",
       "      <th>id</th>\n",
       "      <th>region_code</th>\n",
       "      <th>publish_date_time</th>\n",
       "      <th>channel_id</th>\n",
       "      <th>channel_name</th>\n",
       "      <th>title</th>\n",
       "      <th>description</th>\n",
       "      <th>category_id</th>\n",
       "      <th>duration</th>\n",
       "      <th>caption</th>\n",
       "      <th>views</th>\n",
       "      <th>likes</th>\n",
       "      <th>comment_count</th>\n",
       "    </tr>\n",
       "  </thead>\n",
       "  <tbody>\n",
       "    <tr>\n",
       "      <th>0</th>\n",
       "      <td>XhW3i2f54BQ</td>\n",
       "      <td>IN</td>\n",
       "      <td>2025-02-24T05:37:32Z</td>\n",
       "      <td>UC-seBZmnGCMWm9aCHL2WcNQ</td>\n",
       "      <td>Wall Poster Cinema</td>\n",
       "      <td>HIT 3 Teaser : Sarkaar's Laathi | Nani | Saile...</td>\n",
       "      <td>Watch #HIT3Teaser : Sarkaar's Laathi on Wall P...</td>\n",
       "      <td>1</td>\n",
       "      <td>PT1M45S</td>\n",
       "      <td>True</td>\n",
       "      <td>16695651</td>\n",
       "      <td>323858</td>\n",
       "      <td>6688</td>\n",
       "    </tr>\n",
       "    <tr>\n",
       "      <th>1</th>\n",
       "      <td>W8x6Dwyj0-A</td>\n",
       "      <td>IN</td>\n",
       "      <td>2025-02-22T11:30:08Z</td>\n",
       "      <td>UCq-Fj5jknLsUf-MWSy4_brA</td>\n",
       "      <td>T-Series</td>\n",
       "      <td>MANIAC (Official Video): YO YO HONEY SINGH | E...</td>\n",
       "      <td>YOU CAN FEEL THE HEAT! PRESENTING THE OFFICIAL...</td>\n",
       "      <td>10</td>\n",
       "      <td>PT2M58S</td>\n",
       "      <td>False</td>\n",
       "      <td>25780803</td>\n",
       "      <td>1588648</td>\n",
       "      <td>115750</td>\n",
       "    </tr>\n",
       "    <tr>\n",
       "      <th>2</th>\n",
       "      <td>dbWfo4NAx8M</td>\n",
       "      <td>IN</td>\n",
       "      <td>2025-02-23T17:12:10Z</td>\n",
       "      <td>UCeWqACGRU5gT0BXeFhrixWA</td>\n",
       "      <td>Shoaib Akhtar</td>\n",
       "      <td>I am Not Disappointed at All | #PAKVIND | Shoa...</td>\n",
       "      <td>I am Not Disappointed at All | #PAKVIND\\n\\n#Sh...</td>\n",
       "      <td>17</td>\n",
       "      <td>PT3M53S</td>\n",
       "      <td>False</td>\n",
       "      <td>2064436</td>\n",
       "      <td>83781</td>\n",
       "      <td>5386</td>\n",
       "    </tr>\n",
       "    <tr>\n",
       "      <th>3</th>\n",
       "      <td>DQnZhK6Y27g</td>\n",
       "      <td>IN</td>\n",
       "      <td>2025-02-23T06:11:52Z</td>\n",
       "      <td>UCebC4x5l2-PQxg46Ucv9CsA</td>\n",
       "      <td>Crazy XYZ</td>\n",
       "      <td>Crazy Secret Room Making Challenges Part-3 | इ...</td>\n",
       "      <td>Probo Link: https://probo-in.onelink.me/1kre/C...</td>\n",
       "      <td>28</td>\n",
       "      <td>PT29M42S</td>\n",
       "      <td>False</td>\n",
       "      <td>4442627</td>\n",
       "      <td>300654</td>\n",
       "      <td>47471</td>\n",
       "    </tr>\n",
       "    <tr>\n",
       "      <th>4</th>\n",
       "      <td>UTaWdNZkGcM</td>\n",
       "      <td>IN</td>\n",
       "      <td>2025-02-23T17:21:39Z</td>\n",
       "      <td>UC9D7QzaNDP11e4jI4ygU5Xg</td>\n",
       "      <td>NewsBook</td>\n",
       "      <td>IND vs PAK: India की Pakistan पर Virat जीत ! R...</td>\n",
       "      <td>#indvspak #viratkohli #shreyasiyer #shubmangil...</td>\n",
       "      <td>17</td>\n",
       "      <td>PT11M48S</td>\n",
       "      <td>False</td>\n",
       "      <td>1374247</td>\n",
       "      <td>59617</td>\n",
       "      <td>3526</td>\n",
       "    </tr>\n",
       "  </tbody>\n",
       "</table>\n",
       "</div>"
      ],
      "text/plain": [
       "            id region_code     publish_date_time                channel_id  \\\n",
       "0  XhW3i2f54BQ          IN  2025-02-24T05:37:32Z  UC-seBZmnGCMWm9aCHL2WcNQ   \n",
       "1  W8x6Dwyj0-A          IN  2025-02-22T11:30:08Z  UCq-Fj5jknLsUf-MWSy4_brA   \n",
       "2  dbWfo4NAx8M          IN  2025-02-23T17:12:10Z  UCeWqACGRU5gT0BXeFhrixWA   \n",
       "3  DQnZhK6Y27g          IN  2025-02-23T06:11:52Z  UCebC4x5l2-PQxg46Ucv9CsA   \n",
       "4  UTaWdNZkGcM          IN  2025-02-23T17:21:39Z  UC9D7QzaNDP11e4jI4ygU5Xg   \n",
       "\n",
       "         channel_name                                              title  \\\n",
       "0  Wall Poster Cinema  HIT 3 Teaser : Sarkaar's Laathi | Nani | Saile...   \n",
       "1            T-Series  MANIAC (Official Video): YO YO HONEY SINGH | E...   \n",
       "2       Shoaib Akhtar  I am Not Disappointed at All | #PAKVIND | Shoa...   \n",
       "3           Crazy XYZ  Crazy Secret Room Making Challenges Part-3 | इ...   \n",
       "4            NewsBook  IND vs PAK: India की Pakistan पर Virat जीत ! R...   \n",
       "\n",
       "                                         description  category_id  duration  \\\n",
       "0  Watch #HIT3Teaser : Sarkaar's Laathi on Wall P...            1   PT1M45S   \n",
       "1  YOU CAN FEEL THE HEAT! PRESENTING THE OFFICIAL...           10   PT2M58S   \n",
       "2  I am Not Disappointed at All | #PAKVIND\\n\\n#Sh...           17   PT3M53S   \n",
       "3  Probo Link: https://probo-in.onelink.me/1kre/C...           28  PT29M42S   \n",
       "4  #indvspak #viratkohli #shreyasiyer #shubmangil...           17  PT11M48S   \n",
       "\n",
       "   caption     views    likes  comment_count  \n",
       "0     True  16695651   323858           6688  \n",
       "1    False  25780803  1588648         115750  \n",
       "2    False   2064436    83781           5386  \n",
       "3    False   4442627   300654          47471  \n",
       "4    False   1374247    59617           3526  "
      ]
     },
     "execution_count": 15,
     "metadata": {},
     "output_type": "execute_result"
    }
   ],
   "source": [
    "df = df.rename(columns={'publish_date' : 'publish_date_time'})\n",
    "\n",
    "df.head(5)"
   ]
  },
  {
   "cell_type": "code",
   "execution_count": 16,
   "metadata": {},
   "outputs": [],
   "source": [
    "# splitting date and time into two columns\n",
    "df[['publish_date', 'publish_time']] = df['publish_date_time'].str.split('T', expand=True)\n",
    "df['publish_time'] = df['publish_time'].str.rstrip('Z')\n"
   ]
  },
  {
   "cell_type": "code",
   "execution_count": 17,
   "metadata": {},
   "outputs": [
    {
     "data": {
      "text/plain": [
       "id                                object\n",
       "region_code                       object\n",
       "publish_date_time    datetime64[ns, UTC]\n",
       "channel_id                        object\n",
       "channel_name                      object\n",
       "title                             object\n",
       "description                       object\n",
       "category_id                        int64\n",
       "duration                          object\n",
       "caption                             bool\n",
       "views                              int64\n",
       "likes                              int64\n",
       "comment_count                      int64\n",
       "publish_date                      object\n",
       "publish_time                      object\n",
       "duration_in_min                  float64\n",
       "dtype: object"
      ]
     },
     "execution_count": 17,
     "metadata": {},
     "output_type": "execute_result"
    }
   ],
   "source": [
    "# convert to appropriate data types\n",
    "df['publish_date_time'] = pd.to_datetime(df['publish_date_time'], utc=True, errors='coerce') \n",
    "\n",
    "df['duration_in_min'] = pd.to_timedelta(df['duration'], errors='coerce').dt.total_seconds() #duration in minutes\n",
    "df['duration_in_min'] = (df['duration_in_min']/60.00).round(2) #duration in minutes\n",
    "\n",
    "df.dtypes"
   ]
  },
  {
   "cell_type": "code",
   "execution_count": 18,
   "metadata": {},
   "outputs": [
    {
     "data": {
      "text/html": [
       "<div>\n",
       "<style scoped>\n",
       "    .dataframe tbody tr th:only-of-type {\n",
       "        vertical-align: middle;\n",
       "    }\n",
       "\n",
       "    .dataframe tbody tr th {\n",
       "        vertical-align: top;\n",
       "    }\n",
       "\n",
       "    .dataframe thead th {\n",
       "        text-align: right;\n",
       "    }\n",
       "</style>\n",
       "<table border=\"1\" class=\"dataframe\">\n",
       "  <thead>\n",
       "    <tr style=\"text-align: right;\">\n",
       "      <th></th>\n",
       "      <th>id</th>\n",
       "      <th>region_code</th>\n",
       "      <th>publish_date_time</th>\n",
       "      <th>channel_id</th>\n",
       "      <th>channel_name</th>\n",
       "      <th>title</th>\n",
       "      <th>description</th>\n",
       "      <th>category_id</th>\n",
       "      <th>duration</th>\n",
       "      <th>caption</th>\n",
       "      <th>views</th>\n",
       "      <th>likes</th>\n",
       "      <th>comment_count</th>\n",
       "      <th>publish_date</th>\n",
       "      <th>publish_time</th>\n",
       "      <th>duration_in_min</th>\n",
       "      <th>views_per_minute</th>\n",
       "      <th>likes_per_minute</th>\n",
       "      <th>likes_per_view</th>\n",
       "      <th>comments_per_view</th>\n",
       "    </tr>\n",
       "  </thead>\n",
       "  <tbody>\n",
       "    <tr>\n",
       "      <th>0</th>\n",
       "      <td>XhW3i2f54BQ</td>\n",
       "      <td>IN</td>\n",
       "      <td>2025-02-24 05:37:32+00:00</td>\n",
       "      <td>UC-seBZmnGCMWm9aCHL2WcNQ</td>\n",
       "      <td>Wall Poster Cinema</td>\n",
       "      <td>HIT 3 Teaser : Sarkaar's Laathi | Nani | Saile...</td>\n",
       "      <td>Watch #HIT3Teaser : Sarkaar's Laathi on Wall P...</td>\n",
       "      <td>1</td>\n",
       "      <td>PT1M45S</td>\n",
       "      <td>True</td>\n",
       "      <td>16695651</td>\n",
       "      <td>323858</td>\n",
       "      <td>6688</td>\n",
       "      <td>2025-02-24</td>\n",
       "      <td>05:37:32</td>\n",
       "      <td>1.75</td>\n",
       "      <td>9540372.00</td>\n",
       "      <td>185061.71</td>\n",
       "      <td>0.02</td>\n",
       "      <td>0.0</td>\n",
       "    </tr>\n",
       "    <tr>\n",
       "      <th>1</th>\n",
       "      <td>W8x6Dwyj0-A</td>\n",
       "      <td>IN</td>\n",
       "      <td>2025-02-22 11:30:08+00:00</td>\n",
       "      <td>UCq-Fj5jknLsUf-MWSy4_brA</td>\n",
       "      <td>T-Series</td>\n",
       "      <td>MANIAC (Official Video): YO YO HONEY SINGH | E...</td>\n",
       "      <td>YOU CAN FEEL THE HEAT! PRESENTING THE OFFICIAL...</td>\n",
       "      <td>10</td>\n",
       "      <td>PT2M58S</td>\n",
       "      <td>False</td>\n",
       "      <td>25780803</td>\n",
       "      <td>1588648</td>\n",
       "      <td>115750</td>\n",
       "      <td>2025-02-22</td>\n",
       "      <td>11:30:08</td>\n",
       "      <td>2.97</td>\n",
       "      <td>8680405.05</td>\n",
       "      <td>534898.32</td>\n",
       "      <td>0.06</td>\n",
       "      <td>0.0</td>\n",
       "    </tr>\n",
       "    <tr>\n",
       "      <th>2</th>\n",
       "      <td>dbWfo4NAx8M</td>\n",
       "      <td>IN</td>\n",
       "      <td>2025-02-23 17:12:10+00:00</td>\n",
       "      <td>UCeWqACGRU5gT0BXeFhrixWA</td>\n",
       "      <td>Shoaib Akhtar</td>\n",
       "      <td>I am Not Disappointed at All | #PAKVIND | Shoa...</td>\n",
       "      <td>I am Not Disappointed at All | #PAKVIND\\n\\n#Sh...</td>\n",
       "      <td>17</td>\n",
       "      <td>PT3M53S</td>\n",
       "      <td>False</td>\n",
       "      <td>2064436</td>\n",
       "      <td>83781</td>\n",
       "      <td>5386</td>\n",
       "      <td>2025-02-23</td>\n",
       "      <td>17:12:10</td>\n",
       "      <td>3.88</td>\n",
       "      <td>532071.13</td>\n",
       "      <td>21593.04</td>\n",
       "      <td>0.04</td>\n",
       "      <td>0.0</td>\n",
       "    </tr>\n",
       "  </tbody>\n",
       "</table>\n",
       "</div>"
      ],
      "text/plain": [
       "            id region_code         publish_date_time  \\\n",
       "0  XhW3i2f54BQ          IN 2025-02-24 05:37:32+00:00   \n",
       "1  W8x6Dwyj0-A          IN 2025-02-22 11:30:08+00:00   \n",
       "2  dbWfo4NAx8M          IN 2025-02-23 17:12:10+00:00   \n",
       "\n",
       "                 channel_id        channel_name  \\\n",
       "0  UC-seBZmnGCMWm9aCHL2WcNQ  Wall Poster Cinema   \n",
       "1  UCq-Fj5jknLsUf-MWSy4_brA            T-Series   \n",
       "2  UCeWqACGRU5gT0BXeFhrixWA       Shoaib Akhtar   \n",
       "\n",
       "                                               title  \\\n",
       "0  HIT 3 Teaser : Sarkaar's Laathi | Nani | Saile...   \n",
       "1  MANIAC (Official Video): YO YO HONEY SINGH | E...   \n",
       "2  I am Not Disappointed at All | #PAKVIND | Shoa...   \n",
       "\n",
       "                                         description  category_id duration  \\\n",
       "0  Watch #HIT3Teaser : Sarkaar's Laathi on Wall P...            1  PT1M45S   \n",
       "1  YOU CAN FEEL THE HEAT! PRESENTING THE OFFICIAL...           10  PT2M58S   \n",
       "2  I am Not Disappointed at All | #PAKVIND\\n\\n#Sh...           17  PT3M53S   \n",
       "\n",
       "   caption     views    likes  comment_count publish_date publish_time  \\\n",
       "0     True  16695651   323858           6688   2025-02-24     05:37:32   \n",
       "1    False  25780803  1588648         115750   2025-02-22     11:30:08   \n",
       "2    False   2064436    83781           5386   2025-02-23     17:12:10   \n",
       "\n",
       "   duration_in_min  views_per_minute  likes_per_minute  likes_per_view  \\\n",
       "0             1.75        9540372.00         185061.71            0.02   \n",
       "1             2.97        8680405.05         534898.32            0.06   \n",
       "2             3.88         532071.13          21593.04            0.04   \n",
       "\n",
       "   comments_per_view  \n",
       "0                0.0  \n",
       "1                0.0  \n",
       "2                0.0  "
      ]
     },
     "execution_count": 18,
     "metadata": {},
     "output_type": "execute_result"
    }
   ],
   "source": [
    "# adding some useful columns \n",
    "df['views_per_minute'] = (df.views/df.duration_in_min).round(2)\n",
    "df['likes_per_minute'] = (df.likes/df.duration_in_min).round(2)\n",
    "\n",
    "df['likes_per_view'] = (df.likes/df.views).round(2)\n",
    "df['comments_per_view'] = (df.comment_count/df.views).round(2)\n",
    "df.head(3)"
   ]
  },
  {
   "cell_type": "code",
   "execution_count": 19,
   "metadata": {},
   "outputs": [
    {
     "data": {
      "text/plain": [
       "'\"Getting categories for all regions using Youtube Data API'"
      ]
     },
     "execution_count": 19,
     "metadata": {},
     "output_type": "execute_result"
    }
   ],
   "source": [
    "\"\"\"\"Getting categories for all regions using Youtube Data API\"\"\"\n",
    "\n",
    "# from mypackage import get_youtube_object\n",
    "\n",
    "# youtube = get_youtube_object()\n",
    "\n",
    "# categories = {}\n",
    "# for region in ['IN', 'US', 'BR', 'ID', 'MX']:\n",
    "#     request = youtube.videoCategories().list(\n",
    "#             part=\"snippet\",\n",
    "#             regionCode='IN'\n",
    "#         )\n",
    "#     response = request.execute()\n",
    "#     tmp_dict = {}\n",
    "#     for i in range(len(response['items'])):\n",
    "#         tmp_dict[response['items'][i]['id']] = response['items'][i]['snippet']['title']\n",
    "#     categories[region] = tmp_dict\n",
    "\n",
    "# print(categories)\n"
   ]
  },
  {
   "cell_type": "code",
   "execution_count": 20,
   "metadata": {},
   "outputs": [],
   "source": [
    "# categories = {'IN': {'1': 'Film & Animation', '2': 'Autos & Vehicles', '10': 'Music', '15': 'Pets & Animals', '17': 'Sports', '18': 'Short Movies', '19': 'Travel & Events', '20': 'Gaming', '21': 'Videoblogging', '22': 'People & Blogs', '23': 'Comedy', '24': 'Entertainment', '25': 'News & Politics', '26': 'Howto & Style', '27': 'Education', '28': 'Science & Technology', '30': 'Movies', '31': 'Anime/Animation', '32': 'Action/Adventure', '33': 'Classics', '34': 'Comedy', '35': 'Documentary', '36': 'Drama', '37': 'Family', '38': 'Foreign', '39': 'Horror', '40': 'Sci-Fi/Fantasy', '41': 'Thriller', '42': 'Shorts', '43': 'Shows', '44': 'Trailers'}, \n",
    "#               'US': {'1': 'Film & Animation', '2': 'Autos & Vehicles', '10': 'Music', '15': 'Pets & Animals', '17': 'Sports', '18': 'Short Movies', '19': 'Travel & Events', '20': 'Gaming', '21': 'Videoblogging', '22': 'People & Blogs', '23': 'Comedy', '24': 'Entertainment', '25': 'News & Politics', '26': 'Howto & Style', '27': 'Education', '28': 'Science & Technology', '30': 'Movies', '31': 'Anime/Animation', '32': 'Action/Adventure', '33': 'Classics', '34': 'Comedy', '35': 'Documentary', '36': 'Drama', '37': 'Family', '38': 'Foreign', '39': 'Horror', '40': 'Sci-Fi/Fantasy', '41': 'Thriller', '42': 'Shorts', '43': 'Shows', '44': 'Trailers'}, \n",
    "#               'BR': {'1': 'Film & Animation', '2': 'Autos & Vehicles', '10': 'Music', '15': 'Pets & Animals', '17': 'Sports', '18': 'Short Movies', '19': 'Travel & Events', '20': 'Gaming', '21': 'Videoblogging', '22': 'People & Blogs', '23': 'Comedy', '24': 'Entertainment', '25': 'News & Politics', '26': 'Howto & Style', '27': 'Education', '28': 'Science & Technology', '30': 'Movies', '31': 'Anime/Animation', '32': 'Action/Adventure', '33': 'Classics', '34': 'Comedy', '35': 'Documentary', '36': 'Drama', '37': 'Family', '38': 'Foreign', '39': 'Horror', '40': 'Sci-Fi/Fantasy', '41': 'Thriller', '42': 'Shorts', '43': 'Shows', '44': 'Trailers'}, \n",
    "#               'ID': {'1': 'Film & Animation', '2': 'Autos & Vehicles', '10': 'Music', '15': 'Pets & Animals', '17': 'Sports', '18': 'Short Movies', '19': 'Travel & Events', '20': 'Gaming', '21': 'Videoblogging', '22': 'People & Blogs', '23': 'Comedy', '24': 'Entertainment', '25': 'News & Politics', '26': 'Howto & Style', '27': 'Education', '28': 'Science & Technology', '30': 'Movies', '31': 'Anime/Animation', '32': 'Action/Adventure', '33': 'Classics', '34': 'Comedy', '35': 'Documentary', '36': 'Drama', '37': 'Family', '38': 'Foreign', '39': 'Horror', '40': 'Sci-Fi/Fantasy', '41': 'Thriller', '42': 'Shorts', '43': 'Shows', '44': 'Trailers'}, \n",
    "#               'MX': {'1': 'Film & Animation', '2': 'Autos & Vehicles', '10': 'Music', '15': 'Pets & Animals', '17': 'Sports', '18': 'Short Movies', '19': 'Travel & Events', '20': 'Gaming', '21': 'Videoblogging', '22': 'People & Blogs', '23': 'Comedy', '24': 'Entertainment', '25': 'News & Politics', '26': 'Howto & Style', '27': 'Education', '28': 'Science & Technology', '30': 'Movies', '31': 'Anime/Animation', '32': 'Action/Adventure', '33': 'Classics', '34': 'Comedy', '35': 'Documentary', '36': 'Drama', '37': 'Family', '38': 'Foreign', '39': 'Horror', '40': 'Sci-Fi/Fantasy', '41': 'Thriller', '42': 'Shorts', '43': 'Shows', '44': 'Trailers'}}"
   ]
  },
  {
   "cell_type": "markdown",
   "metadata": {},
   "source": [
    "- since there is no difference between categories of these 5 regions we can simply use one dict"
   ]
  },
  {
   "cell_type": "code",
   "execution_count": 21,
   "metadata": {},
   "outputs": [],
   "source": [
    "categories = {'1': 'Film & Animation', '2': 'Autos & Vehicles', '10': 'Music', '15': 'Pets & Animals', '17': 'Sports', '18': 'Short Movies', '19': 'Travel & Events', '20': 'Gaming', '21': 'Videoblogging', '22': 'People & Blogs', '23': 'Comedy', '24': 'Entertainment', '25': 'News & Politics', '26': 'Howto & Style', '27': 'Education', '28': 'Science & Technology', '30': 'Movies', '31': 'Anime/Animation', '32': 'Action/Adventure', '33': 'Classics', '34': 'Comedy', '35': 'Documentary', '36': 'Drama', '37': 'Family', '38': 'Foreign', '39': 'Horror', '40': 'Sci-Fi/Fantasy', '41': 'Thriller', '42': 'Shorts', '43': 'Shows', '44': 'Trailers'}"
   ]
  },
  {
   "cell_type": "code",
   "execution_count": 22,
   "metadata": {},
   "outputs": [
    {
     "data": {
      "text/html": [
       "<div>\n",
       "<style scoped>\n",
       "    .dataframe tbody tr th:only-of-type {\n",
       "        vertical-align: middle;\n",
       "    }\n",
       "\n",
       "    .dataframe tbody tr th {\n",
       "        vertical-align: top;\n",
       "    }\n",
       "\n",
       "    .dataframe thead th {\n",
       "        text-align: right;\n",
       "    }\n",
       "</style>\n",
       "<table border=\"1\" class=\"dataframe\">\n",
       "  <thead>\n",
       "    <tr style=\"text-align: right;\">\n",
       "      <th></th>\n",
       "      <th>id</th>\n",
       "      <th>region_code</th>\n",
       "      <th>publish_date_time</th>\n",
       "      <th>channel_id</th>\n",
       "      <th>channel_name</th>\n",
       "      <th>title</th>\n",
       "      <th>description</th>\n",
       "      <th>category_id</th>\n",
       "      <th>duration</th>\n",
       "      <th>caption</th>\n",
       "      <th>...</th>\n",
       "      <th>likes</th>\n",
       "      <th>comment_count</th>\n",
       "      <th>publish_date</th>\n",
       "      <th>publish_time</th>\n",
       "      <th>duration_in_min</th>\n",
       "      <th>views_per_minute</th>\n",
       "      <th>likes_per_minute</th>\n",
       "      <th>likes_per_view</th>\n",
       "      <th>comments_per_view</th>\n",
       "      <th>category</th>\n",
       "    </tr>\n",
       "  </thead>\n",
       "  <tbody>\n",
       "    <tr>\n",
       "      <th>0</th>\n",
       "      <td>XhW3i2f54BQ</td>\n",
       "      <td>IN</td>\n",
       "      <td>2025-02-24 05:37:32+00:00</td>\n",
       "      <td>UC-seBZmnGCMWm9aCHL2WcNQ</td>\n",
       "      <td>Wall Poster Cinema</td>\n",
       "      <td>HIT 3 Teaser : Sarkaar's Laathi | Nani | Saile...</td>\n",
       "      <td>Watch #HIT3Teaser : Sarkaar's Laathi on Wall P...</td>\n",
       "      <td>1</td>\n",
       "      <td>PT1M45S</td>\n",
       "      <td>True</td>\n",
       "      <td>...</td>\n",
       "      <td>323858</td>\n",
       "      <td>6688</td>\n",
       "      <td>2025-02-24</td>\n",
       "      <td>05:37:32</td>\n",
       "      <td>1.75</td>\n",
       "      <td>9540372.00</td>\n",
       "      <td>185061.71</td>\n",
       "      <td>0.02</td>\n",
       "      <td>0.00</td>\n",
       "      <td>Film &amp; Animation</td>\n",
       "    </tr>\n",
       "    <tr>\n",
       "      <th>1</th>\n",
       "      <td>W8x6Dwyj0-A</td>\n",
       "      <td>IN</td>\n",
       "      <td>2025-02-22 11:30:08+00:00</td>\n",
       "      <td>UCq-Fj5jknLsUf-MWSy4_brA</td>\n",
       "      <td>T-Series</td>\n",
       "      <td>MANIAC (Official Video): YO YO HONEY SINGH | E...</td>\n",
       "      <td>YOU CAN FEEL THE HEAT! PRESENTING THE OFFICIAL...</td>\n",
       "      <td>10</td>\n",
       "      <td>PT2M58S</td>\n",
       "      <td>False</td>\n",
       "      <td>...</td>\n",
       "      <td>1588648</td>\n",
       "      <td>115750</td>\n",
       "      <td>2025-02-22</td>\n",
       "      <td>11:30:08</td>\n",
       "      <td>2.97</td>\n",
       "      <td>8680405.05</td>\n",
       "      <td>534898.32</td>\n",
       "      <td>0.06</td>\n",
       "      <td>0.00</td>\n",
       "      <td>Music</td>\n",
       "    </tr>\n",
       "    <tr>\n",
       "      <th>2</th>\n",
       "      <td>dbWfo4NAx8M</td>\n",
       "      <td>IN</td>\n",
       "      <td>2025-02-23 17:12:10+00:00</td>\n",
       "      <td>UCeWqACGRU5gT0BXeFhrixWA</td>\n",
       "      <td>Shoaib Akhtar</td>\n",
       "      <td>I am Not Disappointed at All | #PAKVIND | Shoa...</td>\n",
       "      <td>I am Not Disappointed at All | #PAKVIND\\n\\n#Sh...</td>\n",
       "      <td>17</td>\n",
       "      <td>PT3M53S</td>\n",
       "      <td>False</td>\n",
       "      <td>...</td>\n",
       "      <td>83781</td>\n",
       "      <td>5386</td>\n",
       "      <td>2025-02-23</td>\n",
       "      <td>17:12:10</td>\n",
       "      <td>3.88</td>\n",
       "      <td>532071.13</td>\n",
       "      <td>21593.04</td>\n",
       "      <td>0.04</td>\n",
       "      <td>0.00</td>\n",
       "      <td>Sports</td>\n",
       "    </tr>\n",
       "    <tr>\n",
       "      <th>3</th>\n",
       "      <td>DQnZhK6Y27g</td>\n",
       "      <td>IN</td>\n",
       "      <td>2025-02-23 06:11:52+00:00</td>\n",
       "      <td>UCebC4x5l2-PQxg46Ucv9CsA</td>\n",
       "      <td>Crazy XYZ</td>\n",
       "      <td>Crazy Secret Room Making Challenges Part-3 | इ...</td>\n",
       "      <td>Probo Link: https://probo-in.onelink.me/1kre/C...</td>\n",
       "      <td>28</td>\n",
       "      <td>PT29M42S</td>\n",
       "      <td>False</td>\n",
       "      <td>...</td>\n",
       "      <td>300654</td>\n",
       "      <td>47471</td>\n",
       "      <td>2025-02-23</td>\n",
       "      <td>06:11:52</td>\n",
       "      <td>29.70</td>\n",
       "      <td>149583.40</td>\n",
       "      <td>10123.03</td>\n",
       "      <td>0.07</td>\n",
       "      <td>0.01</td>\n",
       "      <td>Science &amp; Technology</td>\n",
       "    </tr>\n",
       "    <tr>\n",
       "      <th>4</th>\n",
       "      <td>UTaWdNZkGcM</td>\n",
       "      <td>IN</td>\n",
       "      <td>2025-02-23 17:21:39+00:00</td>\n",
       "      <td>UC9D7QzaNDP11e4jI4ygU5Xg</td>\n",
       "      <td>NewsBook</td>\n",
       "      <td>IND vs PAK: India की Pakistan पर Virat जीत ! R...</td>\n",
       "      <td>#indvspak #viratkohli #shreyasiyer #shubmangil...</td>\n",
       "      <td>17</td>\n",
       "      <td>PT11M48S</td>\n",
       "      <td>False</td>\n",
       "      <td>...</td>\n",
       "      <td>59617</td>\n",
       "      <td>3526</td>\n",
       "      <td>2025-02-23</td>\n",
       "      <td>17:21:39</td>\n",
       "      <td>11.80</td>\n",
       "      <td>116461.61</td>\n",
       "      <td>5052.29</td>\n",
       "      <td>0.04</td>\n",
       "      <td>0.00</td>\n",
       "      <td>Sports</td>\n",
       "    </tr>\n",
       "  </tbody>\n",
       "</table>\n",
       "<p>5 rows × 21 columns</p>\n",
       "</div>"
      ],
      "text/plain": [
       "            id region_code         publish_date_time  \\\n",
       "0  XhW3i2f54BQ          IN 2025-02-24 05:37:32+00:00   \n",
       "1  W8x6Dwyj0-A          IN 2025-02-22 11:30:08+00:00   \n",
       "2  dbWfo4NAx8M          IN 2025-02-23 17:12:10+00:00   \n",
       "3  DQnZhK6Y27g          IN 2025-02-23 06:11:52+00:00   \n",
       "4  UTaWdNZkGcM          IN 2025-02-23 17:21:39+00:00   \n",
       "\n",
       "                 channel_id        channel_name  \\\n",
       "0  UC-seBZmnGCMWm9aCHL2WcNQ  Wall Poster Cinema   \n",
       "1  UCq-Fj5jknLsUf-MWSy4_brA            T-Series   \n",
       "2  UCeWqACGRU5gT0BXeFhrixWA       Shoaib Akhtar   \n",
       "3  UCebC4x5l2-PQxg46Ucv9CsA           Crazy XYZ   \n",
       "4  UC9D7QzaNDP11e4jI4ygU5Xg            NewsBook   \n",
       "\n",
       "                                               title  \\\n",
       "0  HIT 3 Teaser : Sarkaar's Laathi | Nani | Saile...   \n",
       "1  MANIAC (Official Video): YO YO HONEY SINGH | E...   \n",
       "2  I am Not Disappointed at All | #PAKVIND | Shoa...   \n",
       "3  Crazy Secret Room Making Challenges Part-3 | इ...   \n",
       "4  IND vs PAK: India की Pakistan पर Virat जीत ! R...   \n",
       "\n",
       "                                         description  category_id  duration  \\\n",
       "0  Watch #HIT3Teaser : Sarkaar's Laathi on Wall P...            1   PT1M45S   \n",
       "1  YOU CAN FEEL THE HEAT! PRESENTING THE OFFICIAL...           10   PT2M58S   \n",
       "2  I am Not Disappointed at All | #PAKVIND\\n\\n#Sh...           17   PT3M53S   \n",
       "3  Probo Link: https://probo-in.onelink.me/1kre/C...           28  PT29M42S   \n",
       "4  #indvspak #viratkohli #shreyasiyer #shubmangil...           17  PT11M48S   \n",
       "\n",
       "   caption  ...    likes  comment_count  publish_date publish_time  \\\n",
       "0     True  ...   323858           6688    2025-02-24     05:37:32   \n",
       "1    False  ...  1588648         115750    2025-02-22     11:30:08   \n",
       "2    False  ...    83781           5386    2025-02-23     17:12:10   \n",
       "3    False  ...   300654          47471    2025-02-23     06:11:52   \n",
       "4    False  ...    59617           3526    2025-02-23     17:21:39   \n",
       "\n",
       "  duration_in_min  views_per_minute  likes_per_minute  likes_per_view  \\\n",
       "0            1.75        9540372.00         185061.71            0.02   \n",
       "1            2.97        8680405.05         534898.32            0.06   \n",
       "2            3.88         532071.13          21593.04            0.04   \n",
       "3           29.70         149583.40          10123.03            0.07   \n",
       "4           11.80         116461.61           5052.29            0.04   \n",
       "\n",
       "   comments_per_view              category  \n",
       "0               0.00      Film & Animation  \n",
       "1               0.00                 Music  \n",
       "2               0.00                Sports  \n",
       "3               0.01  Science & Technology  \n",
       "4               0.00                Sports  \n",
       "\n",
       "[5 rows x 21 columns]"
      ]
     },
     "execution_count": 22,
     "metadata": {},
     "output_type": "execute_result"
    }
   ],
   "source": [
    "df['category'] = df['category_id'].apply(lambda x: categories[str(x)] if str(x) in categories.keys() else 'NaN')\n",
    "\n",
    "df.head()"
   ]
  },
  {
   "cell_type": "code",
   "execution_count": 23,
   "metadata": {},
   "outputs": [
    {
     "data": {
      "text/html": [
       "<div>\n",
       "<style scoped>\n",
       "    .dataframe tbody tr th:only-of-type {\n",
       "        vertical-align: middle;\n",
       "    }\n",
       "\n",
       "    .dataframe tbody tr th {\n",
       "        vertical-align: top;\n",
       "    }\n",
       "\n",
       "    .dataframe thead th {\n",
       "        text-align: right;\n",
       "    }\n",
       "</style>\n",
       "<table border=\"1\" class=\"dataframe\">\n",
       "  <thead>\n",
       "    <tr style=\"text-align: right;\">\n",
       "      <th></th>\n",
       "      <th>id</th>\n",
       "      <th>region_code</th>\n",
       "      <th>publish_date_time</th>\n",
       "      <th>channel_id</th>\n",
       "      <th>channel_name</th>\n",
       "      <th>title</th>\n",
       "      <th>description</th>\n",
       "      <th>category_id</th>\n",
       "      <th>duration</th>\n",
       "      <th>caption</th>\n",
       "      <th>...</th>\n",
       "      <th>likes</th>\n",
       "      <th>comment_count</th>\n",
       "      <th>publish_date</th>\n",
       "      <th>publish_time</th>\n",
       "      <th>duration_in_min</th>\n",
       "      <th>views_per_minute</th>\n",
       "      <th>likes_per_minute</th>\n",
       "      <th>likes_per_view</th>\n",
       "      <th>comments_per_view</th>\n",
       "      <th>category</th>\n",
       "    </tr>\n",
       "  </thead>\n",
       "  <tbody>\n",
       "  </tbody>\n",
       "</table>\n",
       "<p>0 rows × 21 columns</p>\n",
       "</div>"
      ],
      "text/plain": [
       "Empty DataFrame\n",
       "Columns: [id, region_code, publish_date_time, channel_id, channel_name, title, description, category_id, duration, caption, views, likes, comment_count, publish_date, publish_time, duration_in_min, views_per_minute, likes_per_minute, likes_per_view, comments_per_view, category]\n",
       "Index: []\n",
       "\n",
       "[0 rows x 21 columns]"
      ]
     },
     "execution_count": 23,
     "metadata": {},
     "output_type": "execute_result"
    }
   ],
   "source": [
    "# checking for missing categories\n",
    "df[df['category'] == 'Nan']"
   ]
  },
  {
   "cell_type": "markdown",
   "metadata": {},
   "source": [
    "## EDA"
   ]
  },
  {
   "cell_type": "code",
   "execution_count": 24,
   "metadata": {},
   "outputs": [
    {
     "data": {
      "text/html": [
       "<div>\n",
       "<style scoped>\n",
       "    .dataframe tbody tr th:only-of-type {\n",
       "        vertical-align: middle;\n",
       "    }\n",
       "\n",
       "    .dataframe tbody tr th {\n",
       "        vertical-align: top;\n",
       "    }\n",
       "\n",
       "    .dataframe thead th {\n",
       "        text-align: right;\n",
       "    }\n",
       "</style>\n",
       "<table border=\"1\" class=\"dataframe\">\n",
       "  <thead>\n",
       "    <tr style=\"text-align: right;\">\n",
       "      <th></th>\n",
       "      <th>id</th>\n",
       "      <th>region_code</th>\n",
       "      <th>publish_date_time</th>\n",
       "      <th>channel_id</th>\n",
       "      <th>channel_name</th>\n",
       "      <th>title</th>\n",
       "      <th>description</th>\n",
       "      <th>category_id</th>\n",
       "      <th>duration</th>\n",
       "      <th>caption</th>\n",
       "      <th>...</th>\n",
       "      <th>likes</th>\n",
       "      <th>comment_count</th>\n",
       "      <th>publish_date</th>\n",
       "      <th>publish_time</th>\n",
       "      <th>duration_in_min</th>\n",
       "      <th>views_per_minute</th>\n",
       "      <th>likes_per_minute</th>\n",
       "      <th>likes_per_view</th>\n",
       "      <th>comments_per_view</th>\n",
       "      <th>category</th>\n",
       "    </tr>\n",
       "  </thead>\n",
       "  <tbody>\n",
       "    <tr>\n",
       "      <th>0</th>\n",
       "      <td>XhW3i2f54BQ</td>\n",
       "      <td>IN</td>\n",
       "      <td>2025-02-24 05:37:32+00:00</td>\n",
       "      <td>UC-seBZmnGCMWm9aCHL2WcNQ</td>\n",
       "      <td>Wall Poster Cinema</td>\n",
       "      <td>HIT 3 Teaser : Sarkaar's Laathi | Nani | Saile...</td>\n",
       "      <td>Watch #HIT3Teaser : Sarkaar's Laathi on Wall P...</td>\n",
       "      <td>1</td>\n",
       "      <td>PT1M45S</td>\n",
       "      <td>True</td>\n",
       "      <td>...</td>\n",
       "      <td>323858</td>\n",
       "      <td>6688</td>\n",
       "      <td>2025-02-24</td>\n",
       "      <td>05:37:32</td>\n",
       "      <td>1.75</td>\n",
       "      <td>9540372.00</td>\n",
       "      <td>185061.71</td>\n",
       "      <td>0.02</td>\n",
       "      <td>0.0</td>\n",
       "      <td>Film &amp; Animation</td>\n",
       "    </tr>\n",
       "    <tr>\n",
       "      <th>1</th>\n",
       "      <td>W8x6Dwyj0-A</td>\n",
       "      <td>IN</td>\n",
       "      <td>2025-02-22 11:30:08+00:00</td>\n",
       "      <td>UCq-Fj5jknLsUf-MWSy4_brA</td>\n",
       "      <td>T-Series</td>\n",
       "      <td>MANIAC (Official Video): YO YO HONEY SINGH | E...</td>\n",
       "      <td>YOU CAN FEEL THE HEAT! PRESENTING THE OFFICIAL...</td>\n",
       "      <td>10</td>\n",
       "      <td>PT2M58S</td>\n",
       "      <td>False</td>\n",
       "      <td>...</td>\n",
       "      <td>1588648</td>\n",
       "      <td>115750</td>\n",
       "      <td>2025-02-22</td>\n",
       "      <td>11:30:08</td>\n",
       "      <td>2.97</td>\n",
       "      <td>8680405.05</td>\n",
       "      <td>534898.32</td>\n",
       "      <td>0.06</td>\n",
       "      <td>0.0</td>\n",
       "      <td>Music</td>\n",
       "    </tr>\n",
       "    <tr>\n",
       "      <th>2</th>\n",
       "      <td>dbWfo4NAx8M</td>\n",
       "      <td>IN</td>\n",
       "      <td>2025-02-23 17:12:10+00:00</td>\n",
       "      <td>UCeWqACGRU5gT0BXeFhrixWA</td>\n",
       "      <td>Shoaib Akhtar</td>\n",
       "      <td>I am Not Disappointed at All | #PAKVIND | Shoa...</td>\n",
       "      <td>I am Not Disappointed at All | #PAKVIND\\n\\n#Sh...</td>\n",
       "      <td>17</td>\n",
       "      <td>PT3M53S</td>\n",
       "      <td>False</td>\n",
       "      <td>...</td>\n",
       "      <td>83781</td>\n",
       "      <td>5386</td>\n",
       "      <td>2025-02-23</td>\n",
       "      <td>17:12:10</td>\n",
       "      <td>3.88</td>\n",
       "      <td>532071.13</td>\n",
       "      <td>21593.04</td>\n",
       "      <td>0.04</td>\n",
       "      <td>0.0</td>\n",
       "      <td>Sports</td>\n",
       "    </tr>\n",
       "  </tbody>\n",
       "</table>\n",
       "<p>3 rows × 21 columns</p>\n",
       "</div>"
      ],
      "text/plain": [
       "            id region_code         publish_date_time  \\\n",
       "0  XhW3i2f54BQ          IN 2025-02-24 05:37:32+00:00   \n",
       "1  W8x6Dwyj0-A          IN 2025-02-22 11:30:08+00:00   \n",
       "2  dbWfo4NAx8M          IN 2025-02-23 17:12:10+00:00   \n",
       "\n",
       "                 channel_id        channel_name  \\\n",
       "0  UC-seBZmnGCMWm9aCHL2WcNQ  Wall Poster Cinema   \n",
       "1  UCq-Fj5jknLsUf-MWSy4_brA            T-Series   \n",
       "2  UCeWqACGRU5gT0BXeFhrixWA       Shoaib Akhtar   \n",
       "\n",
       "                                               title  \\\n",
       "0  HIT 3 Teaser : Sarkaar's Laathi | Nani | Saile...   \n",
       "1  MANIAC (Official Video): YO YO HONEY SINGH | E...   \n",
       "2  I am Not Disappointed at All | #PAKVIND | Shoa...   \n",
       "\n",
       "                                         description  category_id duration  \\\n",
       "0  Watch #HIT3Teaser : Sarkaar's Laathi on Wall P...            1  PT1M45S   \n",
       "1  YOU CAN FEEL THE HEAT! PRESENTING THE OFFICIAL...           10  PT2M58S   \n",
       "2  I am Not Disappointed at All | #PAKVIND\\n\\n#Sh...           17  PT3M53S   \n",
       "\n",
       "   caption  ...    likes  comment_count  publish_date publish_time  \\\n",
       "0     True  ...   323858           6688    2025-02-24     05:37:32   \n",
       "1    False  ...  1588648         115750    2025-02-22     11:30:08   \n",
       "2    False  ...    83781           5386    2025-02-23     17:12:10   \n",
       "\n",
       "  duration_in_min  views_per_minute  likes_per_minute  likes_per_view  \\\n",
       "0            1.75        9540372.00         185061.71            0.02   \n",
       "1            2.97        8680405.05         534898.32            0.06   \n",
       "2            3.88         532071.13          21593.04            0.04   \n",
       "\n",
       "   comments_per_view          category  \n",
       "0                0.0  Film & Animation  \n",
       "1                0.0             Music  \n",
       "2                0.0            Sports  \n",
       "\n",
       "[3 rows x 21 columns]"
      ]
     },
     "execution_count": 24,
     "metadata": {},
     "output_type": "execute_result"
    }
   ],
   "source": [
    "df.head(3)"
   ]
  },
  {
   "cell_type": "code",
   "execution_count": 25,
   "metadata": {},
   "outputs": [
    {
     "data": {
      "text/plain": [
       "id                                object\n",
       "region_code                       object\n",
       "publish_date_time    datetime64[ns, UTC]\n",
       "channel_id                        object\n",
       "channel_name                      object\n",
       "title                             object\n",
       "description                       object\n",
       "category_id                        int64\n",
       "duration                          object\n",
       "caption                             bool\n",
       "views                              int64\n",
       "likes                              int64\n",
       "comment_count                      int64\n",
       "publish_date                      object\n",
       "publish_time                      object\n",
       "duration_in_min                  float64\n",
       "views_per_minute                 float64\n",
       "likes_per_minute                 float64\n",
       "likes_per_view                   float64\n",
       "comments_per_view                float64\n",
       "category                          object\n",
       "dtype: object"
      ]
     },
     "execution_count": 25,
     "metadata": {},
     "output_type": "execute_result"
    }
   ],
   "source": [
    "df.dtypes"
   ]
  },
  {
   "cell_type": "code",
   "execution_count": 26,
   "metadata": {},
   "outputs": [],
   "source": [
    "# prolly shd make a publish_time, publish_date interval"
   ]
  },
  {
   "cell_type": "markdown",
   "metadata": {},
   "source": [
    "### Univariate Analysis"
   ]
  },
  {
   "cell_type": "markdown",
   "metadata": {},
   "source": [
    "#### Categorical Columns"
   ]
  },
  {
   "cell_type": "code",
   "execution_count": 27,
   "metadata": {},
   "outputs": [],
   "source": [
    "categorical = ['channel_id', 'category', 'caption']\n",
    "numerical = ['publish_date_time', 'duration_in_min', 'views', 'likes', 'comment_count']"
   ]
  },
  {
   "cell_type": "code",
   "execution_count": 28,
   "metadata": {},
   "outputs": [],
   "source": [
    "def categorical_univariate(col):\n",
    "    if df[col].nunique() < 50: # make plot only if unique values dont go beyond 50\n",
    "        print(col)\n",
    "        sns.countplot(data=df, x=col)\n",
    "        if df[col].nunique() > 5:\n",
    "            plt.xticks(rotation = 90) # rotate labels for easier readibility\n",
    "        plt.show()\n",
    "    print(df[col].value_counts())\n",
    "    print('-------------------------------------' + '\\n')\n"
   ]
  },
  {
   "cell_type": "code",
   "execution_count": 29,
   "metadata": {},
   "outputs": [
    {
     "name": "stdout",
     "output_type": "stream",
     "text": [
      "channel_id\n",
      "UCN9_L9lA9kqJbGANLRus_1A    15\n",
      "UC_oToDrJ6uca7d1dFVBmLtg    14\n",
      "UC3IZKseVpdzPSBaWxBxundA    14\n",
      "UCB_qr75-ydFVKSF9Dmo6izg    11\n",
      "UCYnMzKK6hcpnlRCxGnPwk6Q    11\n",
      "                            ..\n",
      "UCUpZKAvgQbvHyXAerkmxhSQ     1\n",
      "UCEP5aLKvW6TUaP-u20j4yFg     1\n",
      "UCzHQ5_q5zgryHr1ZsTi8STQ     1\n",
      "UCSbEeTlKPcfwAlqwJ08rZaw     1\n",
      "UC9D7QzaNDP11e4jI4ygU5Xg     1\n",
      "Name: count, Length: 518, dtype: int64\n",
      "-------------------------------------\n",
      "\n",
      "category\n"
     ]
    },
    {
     "data": {
      "image/png": "[encoded data removed]",
      "text/plain": [
       "<Figure size 640x480 with 1 Axes>"
      ]
     },
     "metadata": {},
     "output_type": "display_data"
    },
    {
     "name": "stdout",
     "output_type": "stream",
     "text": [
      "category\n",
      "Sports                  225\n",
      "Entertainment           206\n",
      "Music                   186\n",
      "Gaming                  104\n",
      "People & Blogs           91\n",
      "News & Politics          37\n",
      "Comedy                   35\n",
      "Film & Animation         30\n",
      "Science & Technology     19\n",
      "Autos & Vehicles          5\n",
      "Howto & Style             5\n",
      "Education                 3\n",
      "Travel & Events           2\n",
      "Pets & Animals            2\n",
      "Name: count, dtype: int64\n",
      "-------------------------------------\n",
      "\n",
      "caption\n"
     ]
    },
    {
     "data": {
      "image/png": "[encoded data removed]",
      "text/plain": [
       "<Figure size 640x480 with 1 Axes>"
      ]
     },
     "metadata": {},
     "output_type": "display_data"
    },
    {
     "name": "stdout",
     "output_type": "stream",
     "text": [
      "caption\n",
      "False    800\n",
      "True     150\n",
      "Name: count, dtype: int64\n",
      "-------------------------------------\n",
      "\n"
     ]
    }
   ],
   "source": [
    "for col in categorical:\n",
    "    categorical_univariate(col)"
   ]
  },
  {
   "cell_type": "markdown",
   "metadata": {},
   "source": [
    "#### Numerical Columns"
   ]
  },
  {
   "cell_type": "code",
   "execution_count": 30,
   "metadata": {},
   "outputs": [],
   "source": [
    "def numerical_univariate(col):\n",
    "    print(col)\n",
    "    sns.displot(data=df, x=col, kde=True)\n",
    "    plt.xticks(rotation=90)\n",
    "    plt.show()\n",
    "    sns.boxplot(data=df, x=col)\n",
    "    plt.xticks(rotation=90)\n",
    "    plt.show()\n",
    "    print('----------------------------------- \\n')"
   ]
  },
  {
   "cell_type": "code",
   "execution_count": 31,
   "metadata": {},
   "outputs": [
    {
     "name": "stdout",
     "output_type": "stream",
     "text": [
      "publish_date_time\n"
     ]
    },
    {
     "data": {
      "image/png": "[encoded data removed]",
      "text/plain": [
       "<Figure size 500x500 with 1 Axes>"
      ]
     },
     "metadata": {},
     "output_type": "display_data"
    },
    {
     "data": {
      "image/png": "[encoded data removed]",
      "text/plain": [
       "<Figure size 640x480 with 1 Axes>"
      ]
     },
     "metadata": {},
     "output_type": "display_data"
    },
    {
     "name": "stdout",
     "output_type": "stream",
     "text": [
      "----------------------------------- \n",
      "\n",
      "duration_in_min\n"
     ]
    },
    {
     "data": {
      "image/png": "[encoded data removed]",
      "text/plain": [
       "<Figure size 500x500 with 1 Axes>"
      ]
     },
     "metadata": {},
     "output_type": "display_data"
    },
    {
     "data": {
      "image/png": "[encoded data removed]",
      "text/plain": [
       "<Figure size 640x480 with 1 Axes>"
      ]
     },
     "metadata": {},
     "output_type": "display_data"
    },
    {
     "name": "stdout",
     "output_type": "stream",
     "text": [
      "----------------------------------- \n",
      "\n",
      "views\n"
     ]
    },
    {
     "data": {
      "image/png": "[encoded data removed]",
      "text/plain": [
       "<Figure size 500x500 with 1 Axes>"
      ]
     },
     "metadata": {},
     "output_type": "display_data"
    },
    {
     "data": {
      "image/png": "[encoded data removed]",
      "text/plain": [
       "<Figure size 640x480 with 1 Axes>"
      ]
     },
     "metadata": {},
     "output_type": "display_data"
    },
    {
     "name": "stdout",
     "output_type": "stream",
     "text": [
      "----------------------------------- \n",
      "\n",
      "likes\n"
     ]
    },
    {
     "data": {
      "image/png": "[encoded data removed]",
      "text/plain": [
       "<Figure size 500x500 with 1 Axes>"
      ]
     },
     "metadata": {},
     "output_type": "display_data"
    },
    {
     "data": {
      "image/png": "[encoded data removed]",
      "text/plain": [
       "<Figure size 640x480 with 1 Axes>"
      ]
     },
     "metadata": {},
     "output_type": "display_data"
    },
    {
     "name": "stdout",
     "output_type": "stream",
     "text": [
      "----------------------------------- \n",
      "\n",
      "comment_count\n"
     ]
    },
    {
     "data": {
      "image/png": "[encoded data removed]",
      "text/plain": [
       "<Figure size 500x500 with 1 Axes>"
      ]
     },
     "metadata": {},
     "output_type": "display_data"
    },
    {
     "data": {
      "image/png": "[encoded data removed]",
      "text/plain": [
       "<Figure size 640x480 with 1 Axes>"
      ]
     },
     "metadata": {},
     "output_type": "display_data"
    },
    {
     "name": "stdout",
     "output_type": "stream",
     "text": [
      "----------------------------------- \n",
      "\n"
     ]
    }
   ],
   "source": [
    "for col in numerical:\n",
    "    numerical_univariate(col)"
   ]
  },
  {
   "cell_type": "markdown",
   "metadata": {},
   "source": [
    "### Bivariate Analysis"
   ]
  },
  {
   "cell_type": "code",
   "execution_count": null,
   "metadata": {},
   "outputs": [],
   "source": []
  }
 ],
 "metadata": {
  "kernelspec": {
   "display_name": "yt_env",
   "language": "python",
   "name": "python3"
  },
  "language_info": {
   "codemirror_mode": {
    "name": "ipython",
    "version": 3
   },
   "file_extension": ".py",
   "mimetype": "text/x-python",
   "name": "python",
   "nbconvert_exporter": "python",
   "pygments_lexer": "ipython3",
   "version": "3.12.0"
  }
 },
 "nbformat": 4,
 "nbformat_minor": 2
}
